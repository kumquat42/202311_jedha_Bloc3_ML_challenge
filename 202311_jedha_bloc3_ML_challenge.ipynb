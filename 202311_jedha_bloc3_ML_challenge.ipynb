{
 "cells": [
  {
   "cell_type": "markdown",
   "metadata": {},
   "source": [
    "202311_jedha_bloc3_ChallengeML\n",
    "Beraud Mélanie\n",
    "\n",
    "www.datascienceweekly.org is a famous newsletter curated by independent data scientists. Anyone can register his/her e-mail address on this website to receive weekly news about data science and its applications !\n"
   ]
  },
  {
   "cell_type": "markdown",
   "metadata": {},
   "source": [
    "# Import libraries"
   ]
  },
  {
   "cell_type": "code",
   "execution_count": 142,
   "metadata": {
    "colab": {},
    "colab_type": "code",
    "id": "AGhdl7Bt2xZd"
   },
   "outputs": [],
   "source": [
    "import pandas as pd\n",
    "import numpy as np\n",
    "\n",
    "from sklearn.model_selection import train_test_split\n",
    "#from sklearn.pipeline import Pipeline\n",
    "from sklearn.preprocessing import StandardScaler, OneHotEncoder\n",
    "from sklearn.compose import ColumnTransformer\n",
    "from sklearn.linear_model import LogisticRegression\n",
    "from sklearn.metrics import f1_score, confusion_matrix, ConfusionMatrixDisplay, RocCurveDisplay, classification_report\n",
    "\n",
    "# import ensemble methods\n",
    "from sklearn.ensemble import BaggingClassifier, AdaBoostClassifier, GradientBoostingClassifier, VotingClassifier, StackingClassifier\n",
    "from xgboost import XGBClassifier\n",
    "# import base estimators\n",
    "from sklearn.tree import DecisionTreeClassifier\n",
    "from sklearn.linear_model import LogisticRegression\n",
    "from sklearn.svm import SVC\n",
    "from sklearn.model_selection import GridSearchCV\n",
    "\n",
    "\n",
    "import matplotlib.pyplot as plt\n",
    "import plotly.express as px\n",
    "import plotly.graph_objects as go\n",
    "import plotly.io as pio\n",
    "\n",
    "from plotly.subplots import make_subplots\n",
    "# Ma palette pour les plotly\n",
    "pio.templates[\"mel_purple\"] = go.layout.Template(\n",
    "    layout_colorway=['#FF34B3', '#CD2990', '#8B1C62', '#CD00CD', '#8B008B', '#8968CD', '#5D478B','#20B2AA']) #'#EEA2AD', trop proche\n",
    "\n",
    "pio.templates.default = \"mel_purple\"\n",
    "pio.renderers.default = 'notebook_connected' # to be replaced by \"iframe_connected\" to have the pictures in files\n",
    "\n",
    "from IPython.display import display"
   ]
  },
  {
   "cell_type": "markdown",
   "metadata": {},
   "source": [
    "# Functions"
   ]
  },
  {
   "cell_type": "code",
   "execution_count": 143,
   "metadata": {},
   "outputs": [],
   "source": [
    "# Preprocessing function:\n",
    "def prepare_datasets(donnees, name_dataset):\n",
    "\n",
    "    ''' \n",
    "    Should be given:\n",
    "    * data to process\n",
    "    * name for the dataset in ''\n",
    "    The function will prepare Features X/Target Y datatsets, train/val subsets: Splitting and Preprocessing\n",
    "    And return (in that order):\n",
    "        * 4 preprocessed datasets (X_train, X_val, y_train, y_val) \n",
    "        * list of names for num features, cat features from input dataset\n",
    "        * name of X_train/X_val columns\n",
    "        * the name of the dataset for log\n",
    "    '''\n",
    "    name_dataset = name_dataset\n",
    "\n",
    "    X = donnees.drop('converted', axis = 1)\n",
    "    Y = donnees.loc[:, 'converted']\n",
    "    print(type(X), X.shape, type(Y), Y.shape)\n",
    "\n",
    "    # Train_val split\n",
    "    X_train, X_val, y_train, y_val = train_test_split(X, Y, test_size=0.2, random_state=0, stratify = Y)\n",
    "    #X_train[0:5], y_val[0:5]\n",
    "\n",
    "    # Recovery features category_name\n",
    "    num_features = []\n",
    "    cat_features = []\n",
    "\n",
    "    for col in X_train:\n",
    "        if X_train[col].dtypes == 'int64' or X_train[col].dtypes == 'float64':\n",
    "            num_features.append(col)\n",
    "        else:\n",
    "            cat_features.append(col)\n",
    "\n",
    "    num_features = num_features\n",
    "    print(f'num_features are:{num_features},\\ncat_features are:{cat_features}')\n",
    "\n",
    "    # Preprocessings\n",
    "    norm = StandardScaler()\n",
    "    encod = OneHotEncoder(drop=\"first\")\n",
    "\n",
    "    preprocesseur = ColumnTransformer(transformers=[\n",
    "    ('num', norm, num_features),\n",
    "    ('cat', encod, cat_features)])\n",
    "    \n",
    "    X_train = preprocesseur.fit_transform(X_train)\n",
    "    X_val = preprocesseur.transform(X_val)\n",
    "\n",
    "    # recovery of columns names in X_train and X_val\n",
    "    liste_features_name = []    \n",
    "    for name in preprocesseur.get_feature_names_out():\n",
    "        liste_features_name.append(name[5:])\n",
    "    #print(liste_features_name, liste_features_name[0], liste_features_name[1])\n",
    "\n",
    "    print (f'Dataset {name_dataset} is ready.')\n",
    "\n",
    "    return X_train, X_val, y_train, y_val, num_features, cat_features, liste_features_name, name_dataset\n",
    "    #X_train[0:5], y_train[0:5], X_val[0:5], y_val[0:5], y_train.value_counts(), y_val.value_counts()\n",
    "\n",
    "# X_train, X_val, y_train, y_val, num_features, cat_features, liste_features_name, name_dataset = prepare_datasets(data, 'full')\n",
    "\n",
    "def model_scores(name_model, model, name_dataset = name_dataset):\n",
    "\n",
    "    name_model = name_model\n",
    "    name_dataset = name_dataset\n",
    "    model = model\n",
    "\n",
    "    # Predictions\n",
    "\n",
    "    y_train_pred = model.predict(X_train)\n",
    "    y_val_pred = classifier.predict(X_val)\n",
    "\n",
    "    #scores\n",
    "    accuracy_train = model.score(X_train, y_train)\n",
    "    accuracy_val = classifier.score(X_val, y_val)\n",
    "\n",
    "    f1_train = f1_score(y_train, y_train_pred)\n",
    "    f1_val = f1_score(y_val, y_val_pred)\n",
    "\n",
    "\n",
    "    parametres = model.get_params()\n",
    "    coefficients = [coef for coef in classifier.coef_]\n",
    "\n",
    "    report_train = classification_report(y_train, y_train_pred)\n",
    "    report_val = classification_report(y_val, y_val_pred)\n",
    "\n",
    "    print('classification report train')\n",
    "    print(report_train)\n",
    "    print('classification report val')\n",
    "    print(report_val)\n",
    "\n",
    "    # Confusion matrix\n",
    "    tn_val, fp_val = confusion_matrix(y_val, y_val_pred)[0,0], confusion_matrix(y_val, y_val_pred)[0,1]\n",
    "    fn_val, tp_val = confusion_matrix(y_val, y_val_pred)[1,0], confusion_matrix(y_val, y_val_pred)[1,1]\n",
    "\n",
    "    tn_train, fp_train = confusion_matrix(y_train, y_train_pred)[0,0], confusion_matrix(y_train, y_train_pred)[0,1]\n",
    "    fn_train, tp_train = confusion_matrix(y_train, y_train_pred)[1,0], confusion_matrix(y_train, y_train_pred)[1,1]\n",
    "    \n",
    "    #tn_val, fp_val, fn_val, tp_val\n",
    "\n",
    "    #Confusion matrix    \n",
    "    print('matrices de confusion')\n",
    "    fig_train , ax1 = plt.subplots()\n",
    "    ax1.set(title=\"Confusion Matrix on Train set\") \n",
    "    ConfusionMatrixDisplay.from_estimator(classifier, X_train, y_train, ax=ax1) \n",
    "    fig_train.show('notebook_connected')\n",
    "\n",
    "    fig_val , ax2 = plt.subplots()\n",
    "    ax2.set(title=\"Confusion Matrix on val set\") \n",
    "    ConfusionMatrixDisplay.from_estimator(classifier, X_val, y_val, ax=ax2) \n",
    "    fig_val.show() \n",
    "\n",
    "    report = [name_model, model, name_dataset,  parametres, \n",
    "              accuracy_train, accuracy_val, coefficients, \n",
    "              y_train_pred, y_val_pred, f1_train, f1_val, \n",
    "              tn_val, fp_val, fn_val, tp_val,\n",
    "              tn_train, fp_train, fn_train, tp_train,\n",
    "              report_train, report_val]\n",
    "\n",
    "    \n",
    "\n",
    "    dataf  = pd.DataFrame(data=[], columns = ['name_model', 'model', 'name_dataset',  'parametres', \n",
    "              'accuracy_train', 'accuracy_val', 'coefficients', \n",
    "              'y_train_pred', 'y_val_pred', 'f1_train', 'f1_val', \n",
    "              'tn_val', 'fp_val', 'fn_val', 'tp_val',\n",
    "              'tn_train', 'fp_train', 'fn_train', 'tp_train',\n",
    "              'report_train', 'report_val'])\n",
    "    \n",
    "\n",
    "    \n",
    "    print(f'Report will be composed of :\\n {[col for col in dataf.columns]}')\n",
    "    \n",
    "    dataf.loc[len(test), :] = report\n",
    "    '''\n",
    "\n",
    "    return model, type_model, name_dataset, parametres,\\\n",
    "          accuracy_train, accuracy_val, coefficients,\\\n",
    "              y_train_pred, y_val_pred, f1_train, f1_val,\\\n",
    "                  tn_val, fp_val, fn_val, tp_val,\\\n",
    "                     tn_train, fp_train, fn_train, tp_train,\\\n",
    "                          report\n",
    "  \n",
    "    # classifier.get_params().__getitem__('C')\n",
    "\n",
    "    coeff= pd.DataFrame(test['coefficients'][0])\n",
    "    coeff\n",
    "    '''\n",
    "    # presentation\n",
    "    liste_scores = ['name_model', 'model', 'name_dataset', 'accuracy_train', 'accuracy_val', 'f1_train', 'f1_val']\n",
    "    liste_confusionMatrix = ['name_model', 'model', 'name_dataset', 'tn_val', 'fp_val', 'fn_val', 'tp_val',\n",
    "              'tn_train', 'fp_train', 'fn_train', 'tp_train']\n",
    "    liste_params = ['name_model', 'model', 'name_dataset',  'parametres', 'coefficients']\n",
    "    \n",
    "    '''\n",
    "        ['name_model', 'model', 'name_dataset',  'parametres', \n",
    "                'accuracy_train', 'accuracy_val', 'coefficients', \n",
    "                'y_train_pred', 'y_val_pred', 'f1_train', 'f1_val', \n",
    "                'tn_val', 'fp_val', 'fn_val', 'tp_val',\n",
    "                'tn_train', 'fp_train', 'fn_train', 'tp_train',\n",
    "                'report_train', 'report_val']\n",
    "    '''\n",
    "    scores = dataf.loc[:, liste_scores]\n",
    "    confusion = dataf.loc[:, liste_confusionMatrix]\n",
    "    parametre = dataf.loc[:, liste_params]\n",
    "    # adapter les parametre selon le type de modèle... et les coeff selon le nb de coeff\n",
    "\n",
    "\n",
    "    display(scores, confusion, parametre)\n",
    "\n",
    "\n",
    "    \n",
    "    return dataf #, scores\n",
    "\n",
    "#resultats_model = model_scores('name_model', model, name_dataset = name_dataset)\n",
    "\n"
   ]
  },
  {
   "cell_type": "markdown",
   "metadata": {
    "colab_type": "text",
    "id": "LHgro65rxKF7"
   },
   "source": [
    "# Import data"
   ]
  },
  {
   "cell_type": "code",
   "execution_count": 144,
   "metadata": {
    "colab": {
     "base_uri": "https://localhost:8080/",
     "height": 34
    },
    "colab_type": "code",
    "id": "W1AU8AH8u0qd",
    "outputId": "00698a97-027b-493b-a2e4-33fdcc295abb"
   },
   "outputs": [
    {
     "name": "stdout",
     "output_type": "stream",
     "text": [
      "Set with labels (our train+test) : (284580, 6)\n",
      "<class 'pandas.core.frame.DataFrame'>\n",
      "RangeIndex: 284580 entries, 0 to 284579\n",
      "Data columns (total 6 columns):\n",
      " #   Column               Non-Null Count   Dtype   \n",
      "---  ------               --------------   -----   \n",
      " 0   country              284580 non-null  object  \n",
      " 1   age                  284580 non-null  int64   \n",
      " 2   new_user             284580 non-null  category\n",
      " 3   source               284580 non-null  object  \n",
      " 4   total_pages_visited  284580 non-null  int64   \n",
      " 5   converted            284580 non-null  int64   \n",
      "dtypes: category(1), int64(3), object(2)\n",
      "memory usage: 11.1+ MB\n"
     ]
    }
   ],
   "source": [
    "# no need to run for EDA\n",
    "data = pd.read_csv('conversion_data_train.csv')\n",
    "print('Set with labels (our train+test) :', data.shape)\n",
    "\n",
    "\n",
    "# Preprocessng des new_user as category\n",
    "data.new_user = data.new_user.astype('category')\n",
    "data.info()\n",
    "\n",
    "# super clean : 4 categories for country + 3 categories for source\n",
    "# Target = converted 0/1 -classification"
   ]
  },
  {
   "cell_type": "code",
   "execution_count": 5,
   "metadata": {},
   "outputs": [
    {
     "data": {
      "text/html": [
       "<div>\n",
       "<style scoped>\n",
       "    .dataframe tbody tr th:only-of-type {\n",
       "        vertical-align: middle;\n",
       "    }\n",
       "\n",
       "    .dataframe tbody tr th {\n",
       "        vertical-align: top;\n",
       "    }\n",
       "\n",
       "    .dataframe thead th {\n",
       "        text-align: right;\n",
       "    }\n",
       "</style>\n",
       "<table border=\"1\" class=\"dataframe\">\n",
       "  <thead>\n",
       "    <tr style=\"text-align: right;\">\n",
       "      <th></th>\n",
       "      <th>country</th>\n",
       "      <th>age</th>\n",
       "      <th>new_user</th>\n",
       "      <th>source</th>\n",
       "      <th>total_pages_visited</th>\n",
       "      <th>converted</th>\n",
       "    </tr>\n",
       "  </thead>\n",
       "  <tbody>\n",
       "    <tr>\n",
       "      <th>0</th>\n",
       "      <td>China</td>\n",
       "      <td>22</td>\n",
       "      <td>1</td>\n",
       "      <td>Direct</td>\n",
       "      <td>2</td>\n",
       "      <td>0</td>\n",
       "    </tr>\n",
       "    <tr>\n",
       "      <th>1</th>\n",
       "      <td>UK</td>\n",
       "      <td>21</td>\n",
       "      <td>1</td>\n",
       "      <td>Ads</td>\n",
       "      <td>3</td>\n",
       "      <td>0</td>\n",
       "    </tr>\n",
       "    <tr>\n",
       "      <th>2</th>\n",
       "      <td>Germany</td>\n",
       "      <td>20</td>\n",
       "      <td>0</td>\n",
       "      <td>Seo</td>\n",
       "      <td>14</td>\n",
       "      <td>1</td>\n",
       "    </tr>\n",
       "    <tr>\n",
       "      <th>3</th>\n",
       "      <td>US</td>\n",
       "      <td>23</td>\n",
       "      <td>1</td>\n",
       "      <td>Seo</td>\n",
       "      <td>3</td>\n",
       "      <td>0</td>\n",
       "    </tr>\n",
       "    <tr>\n",
       "      <th>4</th>\n",
       "      <td>US</td>\n",
       "      <td>28</td>\n",
       "      <td>1</td>\n",
       "      <td>Direct</td>\n",
       "      <td>3</td>\n",
       "      <td>0</td>\n",
       "    </tr>\n",
       "  </tbody>\n",
       "</table>\n",
       "</div>"
      ],
      "text/plain": [
       "   country  age  new_user  source  total_pages_visited  converted\n",
       "0    China   22         1  Direct                    2          0\n",
       "1       UK   21         1     Ads                    3          0\n",
       "2  Germany   20         0     Seo                   14          1\n",
       "3       US   23         1     Seo                    3          0\n",
       "4       US   28         1  Direct                    3          0"
      ]
     },
     "execution_count": 5,
     "metadata": {},
     "output_type": "execute_result"
    }
   ],
   "source": [
    "data.head()\n",
    "\n",
    "'''\n",
    "data.columns\n",
    "Index(['country', 'age', 'new_user', 'source', 'total_pages_visited',\n",
    "       'converted'],\n",
    "      dtype='object')\n",
    "'''"
   ]
  },
  {
   "cell_type": "code",
   "execution_count": 15,
   "metadata": {},
   "outputs": [
    {
     "data": {
      "text/html": [
       "<div>\n",
       "<style scoped>\n",
       "    .dataframe tbody tr th:only-of-type {\n",
       "        vertical-align: middle;\n",
       "    }\n",
       "\n",
       "    .dataframe tbody tr th {\n",
       "        vertical-align: top;\n",
       "    }\n",
       "\n",
       "    .dataframe thead th {\n",
       "        text-align: right;\n",
       "    }\n",
       "</style>\n",
       "<table border=\"1\" class=\"dataframe\">\n",
       "  <thead>\n",
       "    <tr style=\"text-align: right;\">\n",
       "      <th></th>\n",
       "      <th>country</th>\n",
       "      <th>age</th>\n",
       "      <th>new_user</th>\n",
       "      <th>source</th>\n",
       "      <th>total_pages_visited</th>\n",
       "      <th>converted</th>\n",
       "    </tr>\n",
       "  </thead>\n",
       "  <tbody>\n",
       "    <tr>\n",
       "      <th>count</th>\n",
       "      <td>284580</td>\n",
       "      <td>284580.000000</td>\n",
       "      <td>284580.0</td>\n",
       "      <td>284580</td>\n",
       "      <td>284580.000000</td>\n",
       "      <td>284580.000000</td>\n",
       "    </tr>\n",
       "    <tr>\n",
       "      <th>unique</th>\n",
       "      <td>4</td>\n",
       "      <td>NaN</td>\n",
       "      <td>2.0</td>\n",
       "      <td>3</td>\n",
       "      <td>NaN</td>\n",
       "      <td>NaN</td>\n",
       "    </tr>\n",
       "    <tr>\n",
       "      <th>top</th>\n",
       "      <td>US</td>\n",
       "      <td>NaN</td>\n",
       "      <td>1.0</td>\n",
       "      <td>Seo</td>\n",
       "      <td>NaN</td>\n",
       "      <td>NaN</td>\n",
       "    </tr>\n",
       "    <tr>\n",
       "      <th>freq</th>\n",
       "      <td>160124</td>\n",
       "      <td>NaN</td>\n",
       "      <td>195066.0</td>\n",
       "      <td>139477</td>\n",
       "      <td>NaN</td>\n",
       "      <td>NaN</td>\n",
       "    </tr>\n",
       "    <tr>\n",
       "      <th>mean</th>\n",
       "      <td>NaN</td>\n",
       "      <td>30.564203</td>\n",
       "      <td>NaN</td>\n",
       "      <td>NaN</td>\n",
       "      <td>4.873252</td>\n",
       "      <td>0.032258</td>\n",
       "    </tr>\n",
       "    <tr>\n",
       "      <th>std</th>\n",
       "      <td>NaN</td>\n",
       "      <td>8.266789</td>\n",
       "      <td>NaN</td>\n",
       "      <td>NaN</td>\n",
       "      <td>3.341995</td>\n",
       "      <td>0.176685</td>\n",
       "    </tr>\n",
       "    <tr>\n",
       "      <th>min</th>\n",
       "      <td>NaN</td>\n",
       "      <td>17.000000</td>\n",
       "      <td>NaN</td>\n",
       "      <td>NaN</td>\n",
       "      <td>1.000000</td>\n",
       "      <td>0.000000</td>\n",
       "    </tr>\n",
       "    <tr>\n",
       "      <th>25%</th>\n",
       "      <td>NaN</td>\n",
       "      <td>24.000000</td>\n",
       "      <td>NaN</td>\n",
       "      <td>NaN</td>\n",
       "      <td>2.000000</td>\n",
       "      <td>0.000000</td>\n",
       "    </tr>\n",
       "    <tr>\n",
       "      <th>50%</th>\n",
       "      <td>NaN</td>\n",
       "      <td>30.000000</td>\n",
       "      <td>NaN</td>\n",
       "      <td>NaN</td>\n",
       "      <td>4.000000</td>\n",
       "      <td>0.000000</td>\n",
       "    </tr>\n",
       "    <tr>\n",
       "      <th>75%</th>\n",
       "      <td>NaN</td>\n",
       "      <td>36.000000</td>\n",
       "      <td>NaN</td>\n",
       "      <td>NaN</td>\n",
       "      <td>7.000000</td>\n",
       "      <td>0.000000</td>\n",
       "    </tr>\n",
       "    <tr>\n",
       "      <th>max</th>\n",
       "      <td>NaN</td>\n",
       "      <td>123.000000</td>\n",
       "      <td>NaN</td>\n",
       "      <td>NaN</td>\n",
       "      <td>29.000000</td>\n",
       "      <td>1.000000</td>\n",
       "    </tr>\n",
       "  </tbody>\n",
       "</table>\n",
       "</div>"
      ],
      "text/plain": [
       "       country            age  new_user  source  total_pages_visited  \\\n",
       "count   284580  284580.000000  284580.0  284580        284580.000000   \n",
       "unique       4            NaN       2.0       3                  NaN   \n",
       "top         US            NaN       1.0     Seo                  NaN   \n",
       "freq    160124            NaN  195066.0  139477                  NaN   \n",
       "mean       NaN      30.564203       NaN     NaN             4.873252   \n",
       "std        NaN       8.266789       NaN     NaN             3.341995   \n",
       "min        NaN      17.000000       NaN     NaN             1.000000   \n",
       "25%        NaN      24.000000       NaN     NaN             2.000000   \n",
       "50%        NaN      30.000000       NaN     NaN             4.000000   \n",
       "75%        NaN      36.000000       NaN     NaN             7.000000   \n",
       "max        NaN     123.000000       NaN     NaN            29.000000   \n",
       "\n",
       "            converted  \n",
       "count   284580.000000  \n",
       "unique            NaN  \n",
       "top               NaN  \n",
       "freq              NaN  \n",
       "mean         0.032258  \n",
       "std          0.176685  \n",
       "min          0.000000  \n",
       "25%          0.000000  \n",
       "50%          0.000000  \n",
       "75%          0.000000  \n",
       "max          1.000000  "
      ]
     },
     "execution_count": 15,
     "metadata": {},
     "output_type": "execute_result"
    }
   ],
   "source": [
    "data.describe(include = 'all')"
   ]
  },
  {
   "cell_type": "code",
   "execution_count": null,
   "metadata": {},
   "outputs": [],
   "source": [
    "# No need anymore ...\n",
    "\n",
    "data.info() # No Null values\n",
    "data.new_user.astype('category')\n",
    "data.info()\n",
    "\n",
    "for col in data.columns:\n",
    "    print(col, data[col].value_counts(dropna=False))\n",
    "\n",
    "# super clean : 4 categories for country + 3 categories for source\n",
    "# Target = converted 0/1 -classification"
   ]
  },
  {
   "cell_type": "markdown",
   "metadata": {
    "colab_type": "text",
    "id": "0XwjKBc63B1n"
   },
   "source": [
    "# EDA"
   ]
  },
  {
   "cell_type": "code",
   "execution_count": 72,
   "metadata": {
    "colab": {},
    "colab_type": "code",
    "id": "NM0feCss5sLZ"
   },
   "outputs": [],
   "source": [
    "# The dataset is quite big : you must create a sample of the dataset before making any visualizations !\n",
    "data_sample = data.sample(10000)\n",
    "data_sample.new_user = data_sample.new_user.astype('category')\n",
    "data_sample.dtypes\n",
    "\n",
    "#TO WORK without importing dataset\n",
    "data_sample.to_csv('data_sample.csv') "
   ]
  },
  {
   "cell_type": "code",
   "execution_count": 73,
   "metadata": {},
   "outputs": [
    {
     "data": {
      "text/plain": [
       "new_user\n",
       "1    6922\n",
       "0    3078\n",
       "Name: count, dtype: int64"
      ]
     },
     "execution_count": 73,
     "metadata": {},
     "output_type": "execute_result"
    }
   ],
   "source": [
    "data_sample.new_user.value_counts(dropna=False)"
   ]
  },
  {
   "cell_type": "code",
   "execution_count": 28,
   "metadata": {},
   "outputs": [
    {
     "name": "stdout",
     "output_type": "stream",
     "text": [
      "<class 'pandas.core.frame.DataFrame'>\n",
      "Index: 10000 entries, 179667 to 275284\n",
      "Data columns (total 6 columns):\n",
      " #   Column               Non-Null Count  Dtype   \n",
      "---  ------               --------------  -----   \n",
      " 0   country              10000 non-null  object  \n",
      " 1   age                  10000 non-null  int64   \n",
      " 2   new_user             10000 non-null  category\n",
      " 3   source               10000 non-null  object  \n",
      " 4   total_pages_visited  10000 non-null  int64   \n",
      " 5   converted            10000 non-null  int64   \n",
      "dtypes: category(1), int64(3), object(2)\n",
      "memory usage: 478.6+ KB\n"
     ]
    },
    {
     "data": {
      "text/plain": [
       "(['age', 'total_pages_visited'], ['country', 'new_user', 'source'])"
      ]
     },
     "execution_count": 28,
     "metadata": {},
     "output_type": "execute_result"
    }
   ],
   "source": [
    "data_sample = pd.read_csv('data_sample.csv', index_col=0)\n",
    "data_sample.new_user = data.new_user.astype('category')\n",
    "\n",
    "'''\n",
    "Index(['country', 'age', 'new_user', 'source', 'total_pages_visited',\n",
    "       'converted'],\n",
    "      dtype='object')\n",
    "'''\n",
    "\n",
    "data_sample.info()\n",
    "\n",
    "# recovery of num features and cat features\n",
    "num_features = []\n",
    "cat_features = []\n",
    "\n",
    "for col in data_sample:\n",
    "    if data_sample[col].dtypes == 'int64' or data_sample[col].dtypes == 'float64':\n",
    "        num_features.append(col)\n",
    "    else:\n",
    "        cat_features.append(col)\n",
    "\n",
    "num_features = num_features[:-1]\n",
    "num_features, cat_features"
   ]
  },
  {
   "cell_type": "code",
   "execution_count": 79,
   "metadata": {},
   "outputs": [
    {
     "data": {
      "text/plain": [
       "new_user\n",
       "1    6922\n",
       "0    3078\n",
       "Name: count, dtype: int64"
      ]
     },
     "execution_count": 79,
     "metadata": {},
     "output_type": "execute_result"
    }
   ],
   "source": [
    "data_sample.new_user.value_counts(dropna=False)"
   ]
  },
  {
   "cell_type": "code",
   "execution_count": null,
   "metadata": {},
   "outputs": [],
   "source": [
    "# Pairwise dependencies _ no need here\n",
    "fig = px.scatter_matrix(data_sample)\n",
    "fig.update_layout(\n",
    "        title = go.layout.Title(text = \"Bivariate analysis\", x = 0.5), showlegend = False, \n",
    "            autosize=False, height = 1200, width = 1200)\n",
    "fig.show()"
   ]
  },
  {
   "cell_type": "code",
   "execution_count": 76,
   "metadata": {},
   "outputs": [
    {
     "data": {
      "text/html": [
       "<div>\n",
       "<style scoped>\n",
       "    .dataframe tbody tr th:only-of-type {\n",
       "        vertical-align: middle;\n",
       "    }\n",
       "\n",
       "    .dataframe tbody tr th {\n",
       "        vertical-align: top;\n",
       "    }\n",
       "\n",
       "    .dataframe thead th {\n",
       "        text-align: right;\n",
       "    }\n",
       "</style>\n",
       "<table border=\"1\" class=\"dataframe\">\n",
       "  <thead>\n",
       "    <tr style=\"text-align: right;\">\n",
       "      <th></th>\n",
       "      <th>country</th>\n",
       "      <th>age</th>\n",
       "      <th>new_user</th>\n",
       "      <th>source</th>\n",
       "      <th>total_pages_visited</th>\n",
       "      <th>converted</th>\n",
       "    </tr>\n",
       "  </thead>\n",
       "  <tbody>\n",
       "    <tr>\n",
       "      <th>count</th>\n",
       "      <td>10000</td>\n",
       "      <td>10000.000000</td>\n",
       "      <td>10000.0</td>\n",
       "      <td>10000</td>\n",
       "      <td>10000.000000</td>\n",
       "      <td>10000.000000</td>\n",
       "    </tr>\n",
       "    <tr>\n",
       "      <th>unique</th>\n",
       "      <td>4</td>\n",
       "      <td>NaN</td>\n",
       "      <td>2.0</td>\n",
       "      <td>3</td>\n",
       "      <td>NaN</td>\n",
       "      <td>NaN</td>\n",
       "    </tr>\n",
       "    <tr>\n",
       "      <th>top</th>\n",
       "      <td>US</td>\n",
       "      <td>NaN</td>\n",
       "      <td>1.0</td>\n",
       "      <td>Seo</td>\n",
       "      <td>NaN</td>\n",
       "      <td>NaN</td>\n",
       "    </tr>\n",
       "    <tr>\n",
       "      <th>freq</th>\n",
       "      <td>5600</td>\n",
       "      <td>NaN</td>\n",
       "      <td>6922.0</td>\n",
       "      <td>4840</td>\n",
       "      <td>NaN</td>\n",
       "      <td>NaN</td>\n",
       "    </tr>\n",
       "    <tr>\n",
       "      <th>mean</th>\n",
       "      <td>NaN</td>\n",
       "      <td>30.616500</td>\n",
       "      <td>NaN</td>\n",
       "      <td>NaN</td>\n",
       "      <td>4.782500</td>\n",
       "      <td>0.028300</td>\n",
       "    </tr>\n",
       "    <tr>\n",
       "      <th>std</th>\n",
       "      <td>NaN</td>\n",
       "      <td>8.352641</td>\n",
       "      <td>NaN</td>\n",
       "      <td>NaN</td>\n",
       "      <td>3.221216</td>\n",
       "      <td>0.165837</td>\n",
       "    </tr>\n",
       "    <tr>\n",
       "      <th>min</th>\n",
       "      <td>NaN</td>\n",
       "      <td>17.000000</td>\n",
       "      <td>NaN</td>\n",
       "      <td>NaN</td>\n",
       "      <td>1.000000</td>\n",
       "      <td>0.000000</td>\n",
       "    </tr>\n",
       "    <tr>\n",
       "      <th>25%</th>\n",
       "      <td>NaN</td>\n",
       "      <td>24.000000</td>\n",
       "      <td>NaN</td>\n",
       "      <td>NaN</td>\n",
       "      <td>2.000000</td>\n",
       "      <td>0.000000</td>\n",
       "    </tr>\n",
       "    <tr>\n",
       "      <th>50%</th>\n",
       "      <td>NaN</td>\n",
       "      <td>30.000000</td>\n",
       "      <td>NaN</td>\n",
       "      <td>NaN</td>\n",
       "      <td>4.000000</td>\n",
       "      <td>0.000000</td>\n",
       "    </tr>\n",
       "    <tr>\n",
       "      <th>75%</th>\n",
       "      <td>NaN</td>\n",
       "      <td>36.000000</td>\n",
       "      <td>NaN</td>\n",
       "      <td>NaN</td>\n",
       "      <td>6.000000</td>\n",
       "      <td>0.000000</td>\n",
       "    </tr>\n",
       "    <tr>\n",
       "      <th>max</th>\n",
       "      <td>NaN</td>\n",
       "      <td>64.000000</td>\n",
       "      <td>NaN</td>\n",
       "      <td>NaN</td>\n",
       "      <td>26.000000</td>\n",
       "      <td>1.000000</td>\n",
       "    </tr>\n",
       "  </tbody>\n",
       "</table>\n",
       "</div>"
      ],
      "text/plain": [
       "       country           age  new_user source  total_pages_visited  \\\n",
       "count    10000  10000.000000   10000.0  10000         10000.000000   \n",
       "unique       4           NaN       2.0      3                  NaN   \n",
       "top         US           NaN       1.0    Seo                  NaN   \n",
       "freq      5600           NaN    6922.0   4840                  NaN   \n",
       "mean       NaN     30.616500       NaN    NaN             4.782500   \n",
       "std        NaN      8.352641       NaN    NaN             3.221216   \n",
       "min        NaN     17.000000       NaN    NaN             1.000000   \n",
       "25%        NaN     24.000000       NaN    NaN             2.000000   \n",
       "50%        NaN     30.000000       NaN    NaN             4.000000   \n",
       "75%        NaN     36.000000       NaN    NaN             6.000000   \n",
       "max        NaN     64.000000       NaN    NaN            26.000000   \n",
       "\n",
       "           converted  \n",
       "count   10000.000000  \n",
       "unique           NaN  \n",
       "top              NaN  \n",
       "freq             NaN  \n",
       "mean        0.028300  \n",
       "std         0.165837  \n",
       "min         0.000000  \n",
       "25%         0.000000  \n",
       "50%         0.000000  \n",
       "75%         0.000000  \n",
       "max         1.000000  "
      ]
     },
     "execution_count": 76,
     "metadata": {},
     "output_type": "execute_result"
    }
   ],
   "source": [
    "data_sample.describe(include='all')"
   ]
  },
  {
   "cell_type": "code",
   "execution_count": 77,
   "metadata": {},
   "outputs": [
    {
     "data": {
      "text/plain": [
       "new_user\n",
       "1    6922\n",
       "0    3078\n",
       "Name: count, dtype: int64"
      ]
     },
     "execution_count": 77,
     "metadata": {},
     "output_type": "execute_result"
    }
   ],
   "source": [
    "data_sample.new_user.value_counts(dropna=False)\n"
   ]
  },
  {
   "cell_type": "code",
   "execution_count": null,
   "metadata": {},
   "outputs": [],
   "source": [
    "\n",
    "''' Nope... sert à en mettre plusieurs à côté\n",
    "fig, ax = plt.subplots(1,2, figsize=(20, 10))\n",
    "for axi in ax.flatten():  # enumerate - 0 pour histogramme et 1 box\n",
    "    axi.hist(data_sample[col])\n",
    "'''\n",
    "\n",
    "for col in num_features:\n",
    "    fig = make_subplots(rows = 1, cols = 2)#, figsize=[10,20])\n",
    "\n",
    "    fig.add_trace(px.histogram(data_sample[col]).data[0], row = 1, col=1)\n",
    "    fig.add_trace(px.box(data_sample[col]).data[0], row = 1, col=2)\n",
    "    fig.update_layout(title=f'Distribution {col}', font=dict(size=20), title_font_color=\"#8B1C62\", \n",
    "                    showlegend=False, width=800, height =400)\n",
    "    #fig.show('iframe_connected') #only the last one :()\n",
    "    display(fig)\n",
    "\n",
    "   \n",
    "    # ne fonctionne pas avec fig, axs & ax[0], ou ax[0,0], ne fonctionne pas avec fig, '(ax1, ax2) et ax1= \n",
    "\n",
    "\n",
    "for col in cat_features:\n",
    "    fig = px.histogram(data_sample[col], title=f'Distribution {col}')\n",
    "    fig.update_layout(title=f'Distribution {col}', font=dict(size=20), title_font_color=\"#8B1C62\", \n",
    "                    showlegend=False, width=800, height =400)\n",
    "    display(fig)\n",
    "\n",
    "\n"
   ]
  },
  {
   "cell_type": "code",
   "execution_count": null,
   "metadata": {},
   "outputs": [],
   "source": [
    "data.age.mean(), data.age.max()\n",
    "fig = px.histogram(data.age)\n",
    "\n",
    "fig = px.histogram(data.age[data['age']>60])\n",
    "display(fig)\n",
    "fig.show('iframe_connected')\n",
    "# Garder en tête : Il y a des ousiders en age : 110 et 120 ans"
   ]
  },
  {
   "cell_type": "markdown",
   "metadata": {},
   "source": [
    "### Garder en tête : Il y a des ousiders en age : 110 et 120 ans. Record reconnu de tous les ltemps : Jeanne Calmant 121 ans."
   ]
  },
  {
   "cell_type": "code",
   "execution_count": 14,
   "metadata": {},
   "outputs": [
    {
     "data": {
      "text/html": [
       "<div>\n",
       "<style scoped>\n",
       "    .dataframe tbody tr th:only-of-type {\n",
       "        vertical-align: middle;\n",
       "    }\n",
       "\n",
       "    .dataframe tbody tr th {\n",
       "        vertical-align: top;\n",
       "    }\n",
       "\n",
       "    .dataframe thead th {\n",
       "        text-align: right;\n",
       "    }\n",
       "</style>\n",
       "<table border=\"1\" class=\"dataframe\">\n",
       "  <thead>\n",
       "    <tr style=\"text-align: right;\">\n",
       "      <th></th>\n",
       "      <th>age</th>\n",
       "      <th>total_pages_visited</th>\n",
       "    </tr>\n",
       "  </thead>\n",
       "  <tbody>\n",
       "    <tr>\n",
       "      <th>age</th>\n",
       "      <td>1.00</td>\n",
       "      <td>-0.05</td>\n",
       "    </tr>\n",
       "    <tr>\n",
       "      <th>total_pages_visited</th>\n",
       "      <td>-0.05</td>\n",
       "      <td>1.00</td>\n",
       "    </tr>\n",
       "  </tbody>\n",
       "</table>\n",
       "</div>"
      ],
      "text/plain": [
       "                      age  total_pages_visited\n",
       "age                  1.00                -0.05\n",
       "total_pages_visited -0.05                 1.00"
      ]
     },
     "execution_count": 14,
     "metadata": {},
     "output_type": "execute_result"
    }
   ],
   "source": [
    "# useless  on only 2 num_features...\n",
    "temp = data.loc[:,num_features]\n",
    "corr_matrix = temp.corr().round(2)\n",
    "\n",
    "corr_matrix\n"
   ]
  },
  {
   "cell_type": "code",
   "execution_count": null,
   "metadata": {},
   "outputs": [],
   "source": [
    "# doesn't work\n",
    "\n",
    "'''\n",
    "import ipywidgets as ipw\n",
    "\n",
    "VBox([HBox([fw1, fw2]), HBox([fw3])])\n",
    "'''\n",
    "\n",
    "fig2 = make_subplots(rows = 1, cols = 3) # doesnt' work\n",
    "\n",
    "for col in cat_features:\n",
    "    \n",
    "    #gra = px.histogram(data_sample[col], title=f'Distribution {col}')\n",
    "    #fig2.get_subplot(row = 1, col = 1, subplots = gra)\n",
    "    #fig2 =  ipw.HBox([gra])                  \n",
    "    fig2.add_traces(px.histogram(data_sample[col]), rows = 0, cols =1)#, title=f'Distribution {col}')\n",
    "    #update_layout(title=f'Distribution {col}', font=dict(size=20), title_font_color=\"#8B1C62\", \n",
    "#                    showlegend=False, width=800, height =400)\n",
    "fig2.show()"
   ]
  },
  {
   "cell_type": "markdown",
   "metadata": {},
   "source": [
    "### Preprocessing before separation :\n",
    "No NaN, encoding cat = ok\n",
    "### Preprocessing after separation:\n",
    "OneHotEncoder for 3 cat, norm for 2 num"
   ]
  },
  {
   "cell_type": "markdown",
   "metadata": {},
   "source": [
    "# First model"
   ]
  },
  {
   "cell_type": "code",
   "execution_count": 22,
   "metadata": {},
   "outputs": [
    {
     "data": {
      "text/plain": [
       "([], ['country'])"
      ]
     },
     "execution_count": 22,
     "metadata": {},
     "output_type": "execute_result"
    }
   ],
   "source": [
    "num_features, cat_features"
   ]
  },
  {
   "cell_type": "code",
   "execution_count": null,
   "metadata": {},
   "outputs": [],
   "source": [
    "print(X_train.age[0:5], X_val.age[0:5], X_train.columns, X_val.columns)\n",
    "\n",
    "# Preprocessings\n",
    "norm = StandardScaler()\n",
    "encod = OneHotEncoder(drop=\"first\")\n",
    "\n",
    "preprocesseur = ColumnTransformer(transformers=[\n",
    "('num', norm, num_features),\n",
    "('cat', encod, cat_features)])\n",
    "\n",
    "X_train = preprocesseur.fit_transform(X_train)\n",
    "X_val = preprocesseur.transform(X_val)\n",
    "\n",
    "print(X_train[0:5], X_val[0:5]) # ok"
   ]
  },
  {
   "cell_type": "code",
   "execution_count": null,
   "metadata": {},
   "outputs": [],
   "source": [
    "\n",
    "corr_matrix = X.corr().round(2) # doesn't work\n",
    "#import plotly.figure_factory as ff\n",
    "'''\n",
    "fig = ff.create_annotated_heatmap(corr_matrix.values,\n",
    "                                  x = corr_matrix.columns.tolist(),\n",
    "                                  y = corr_matrix.index.tolist())\n",
    "\n",
    "\n",
    "fig.show()\n",
    "temp = corr(data)\n",
    "'''\n",
    "corr_matrix\n"
   ]
  },
  {
   "cell_type": "code",
   "execution_count": 218,
   "metadata": {},
   "outputs": [
    {
     "data": {
      "text/plain": [
       "(['age',\n",
       "  'total_pages_visited',\n",
       "  'country_Germany',\n",
       "  'country_UK',\n",
       "  'country_US',\n",
       "  'new_user_1',\n",
       "  'source_Direct',\n",
       "  'source_Seo'],\n",
       " 'age',\n",
       " 'total_pages_visited')"
      ]
     },
     "execution_count": 218,
     "metadata": {},
     "output_type": "execute_result"
    }
   ],
   "source": [
    "liste_features_name = []\n",
    "'''\n",
    "array(['num__age', 'num__total_pages_visited', 'cat__country_China',\n",
    "       'cat__country_Germany', 'cat__country_UK', 'cat__country_US',\n",
    "       'cat__new_user_0', 'cat__new_user_1', 'cat__source_Ads',\n",
    "       'cat__source_Direct', 'cat__source_Seo'], dtype=object)\n",
    "'''\n",
    "for name in preprocesseur.get_feature_names_out():\n",
    "       liste_features_name.append(name[5:])\n",
    "\n",
    "liste_features_name, liste_features_name[0], liste_features_name[1]\n"
   ]
  },
  {
   "cell_type": "code",
   "execution_count": null,
   "metadata": {},
   "outputs": [],
   "source": [
    "train_sample = pd.DataFrame(X_train[:,:2], columns = [liste_features_name[0], liste_features_name[1]]).sample(10000)\n",
    "val_sample = pd.DataFrame(X_val[:,:2], columns = [liste_features_name[0], liste_features_name[1]]).sample(10000)\n",
    "#val_sample.head()\n",
    "\n",
    "print(train_sample.shape, val_sample.shape)\n",
    "\n",
    "\n",
    "fig = make_subplots(rows = 1, cols = 4)#, figsize=[10,20])\n",
    "\n",
    "fig.add_trace(px.histogram(train_sample[liste_features_name[0]]).data[0], row = 1, col=1)\n",
    "fig.add_trace(px.histogram(train_sample[liste_features_name[1]]).data[0], row = 1, col=2)\n",
    "fig.add_trace(px.histogram(val_sample[liste_features_name[0]]).data[0], row = 1, col=3)\n",
    "fig.add_trace(px.histogram(val_sample[liste_features_name[1]]).data[0], row = 1, col=4)\n",
    "fig.update_layout(showlegend=False, width=1200, height =400)\n",
    "\n",
    "\n",
    "display(fig)\n"
   ]
  },
  {
   "cell_type": "markdown",
   "metadata": {},
   "source": [
    "# Data\n",
    "\n",
    "### Datasets"
   ]
  },
  {
   "cell_type": "code",
   "execution_count": null,
   "metadata": {},
   "outputs": [],
   "source": []
  },
  {
   "cell_type": "markdown",
   "metadata": {},
   "source": [
    "### Splitting, Preprocessing\n",
    "using the prepare_datasets function\n",
    "\n",
    "X_train, X_val, y_train, y_val, num_features, cat_features, liste_features_name, name_dataset = prepare_datasets(data, 'name_dataset') "
   ]
  },
  {
   "cell_type": "code",
   "execution_count": 145,
   "metadata": {},
   "outputs": [
    {
     "name": "stdout",
     "output_type": "stream",
     "text": [
      "<class 'pandas.core.frame.DataFrame'> (284580, 5) <class 'pandas.core.series.Series'> (284580,)\n",
      "num_features are:['age', 'total_pages_visited'],\n",
      "cat_features are:['country', 'new_user', 'source']\n",
      "Dataset full is ready.\n"
     ]
    }
   ],
   "source": [
    "X_train, X_val, y_train, y_val, num_features, cat_features, liste_features_name, name_dataset = prepare_datasets(data, 'full') \n",
    "\n",
    "\n",
    "# it works with only one column ! data = data.loc[:,['converted', 'age']] Trop cool !"
   ]
  },
  {
   "cell_type": "markdown",
   "metadata": {
    "colab_type": "text",
    "id": "70MwsoCS3QD5"
   },
   "source": [
    "# Models"
   ]
  },
  {
   "cell_type": "markdown",
   "metadata": {
    "colab_type": "text",
    "id": "dPh1qPTf3wZU"
   },
   "source": [
    "## Choose variables to use in the model, and create train and test sets\n",
    "**From the EDA, we know that the most useful feature is total_pages_visited. Let's create a baseline model by using at first only this feature : in the next cells, we'll make preprocessings and train a simple (univariate) logistic regression.**"
   ]
  },
  {
   "cell_type": "code",
   "execution_count": 146,
   "metadata": {},
   "outputs": [
    {
     "name": "stdout",
     "output_type": "stream",
     "text": [
      "classification report train\n",
      "              precision    recall  f1-score   support\n",
      "\n",
      "           0       0.99      1.00      0.99    220320\n",
      "           1       0.86      0.69      0.77      7344\n",
      "\n",
      "    accuracy                           0.99    227664\n",
      "   macro avg       0.92      0.84      0.88    227664\n",
      "weighted avg       0.99      0.99      0.99    227664\n",
      "\n",
      "classification report val\n",
      "              precision    recall  f1-score   support\n",
      "\n",
      "           0       0.99      1.00      0.99     55080\n",
      "           1       0.85      0.68      0.76      1836\n",
      "\n",
      "    accuracy                           0.99     56916\n",
      "   macro avg       0.92      0.84      0.87     56916\n",
      "weighted avg       0.98      0.99      0.99     56916\n",
      "\n",
      "matrices de confusion\n",
      "Report will be composed of :\n",
      " ['name_model', 'model', 'name_dataset', 'parametres', 'accuracy_train', 'accuracy_val', 'coefficients', 'y_train_pred', 'y_val_pred', 'f1_train', 'f1_val', 'tn_val', 'fp_val', 'fn_val', 'tp_val', 'tn_train', 'fp_train', 'fn_train', 'tp_train', 'report_train', 'report_val']\n"
     ]
    },
    {
     "name": "stderr",
     "output_type": "stream",
     "text": [
      "/tmp/ipykernel_7819/3863517468.py:106: UserWarning:\n",
      "\n",
      "FigureCanvasAgg is non-interactive, and thus cannot be shown\n",
      "\n",
      "/tmp/ipykernel_7819/3863517468.py:111: UserWarning:\n",
      "\n",
      "FigureCanvasAgg is non-interactive, and thus cannot be shown\n",
      "\n"
     ]
    },
    {
     "data": {
      "text/html": [
       "<div>\n",
       "<style scoped>\n",
       "    .dataframe tbody tr th:only-of-type {\n",
       "        vertical-align: middle;\n",
       "    }\n",
       "\n",
       "    .dataframe tbody tr th {\n",
       "        vertical-align: top;\n",
       "    }\n",
       "\n",
       "    .dataframe thead th {\n",
       "        text-align: right;\n",
       "    }\n",
       "</style>\n",
       "<table border=\"1\" class=\"dataframe\">\n",
       "  <thead>\n",
       "    <tr style=\"text-align: right;\">\n",
       "      <th></th>\n",
       "      <th>name_model</th>\n",
       "      <th>model</th>\n",
       "      <th>name_dataset</th>\n",
       "      <th>accuracy_train</th>\n",
       "      <th>accuracy_val</th>\n",
       "      <th>f1_train</th>\n",
       "      <th>f1_val</th>\n",
       "    </tr>\n",
       "  </thead>\n",
       "  <tbody>\n",
       "    <tr>\n",
       "      <th>1</th>\n",
       "      <td>reglog_full</td>\n",
       "      <td>LogisticRegression()</td>\n",
       "      <td>full</td>\n",
       "      <td>0.986331</td>\n",
       "      <td>0.985769</td>\n",
       "      <td>0.765451</td>\n",
       "      <td>0.755435</td>\n",
       "    </tr>\n",
       "  </tbody>\n",
       "</table>\n",
       "</div>"
      ],
      "text/plain": [
       "    name_model                 model name_dataset accuracy_train accuracy_val  \\\n",
       "1  reglog_full  LogisticRegression()         full       0.986331     0.985769   \n",
       "\n",
       "   f1_train    f1_val  \n",
       "1  0.765451  0.755435  "
      ]
     },
     "metadata": {},
     "output_type": "display_data"
    },
    {
     "data": {
      "text/html": [
       "<div>\n",
       "<style scoped>\n",
       "    .dataframe tbody tr th:only-of-type {\n",
       "        vertical-align: middle;\n",
       "    }\n",
       "\n",
       "    .dataframe tbody tr th {\n",
       "        vertical-align: top;\n",
       "    }\n",
       "\n",
       "    .dataframe thead th {\n",
       "        text-align: right;\n",
       "    }\n",
       "</style>\n",
       "<table border=\"1\" class=\"dataframe\">\n",
       "  <thead>\n",
       "    <tr style=\"text-align: right;\">\n",
       "      <th></th>\n",
       "      <th>name_model</th>\n",
       "      <th>model</th>\n",
       "      <th>name_dataset</th>\n",
       "      <th>tn_val</th>\n",
       "      <th>fp_val</th>\n",
       "      <th>fn_val</th>\n",
       "      <th>tp_val</th>\n",
       "      <th>tn_train</th>\n",
       "      <th>fp_train</th>\n",
       "      <th>fn_train</th>\n",
       "      <th>tp_train</th>\n",
       "    </tr>\n",
       "  </thead>\n",
       "  <tbody>\n",
       "    <tr>\n",
       "      <th>1</th>\n",
       "      <td>reglog_full</td>\n",
       "      <td>LogisticRegression()</td>\n",
       "      <td>full</td>\n",
       "      <td>54855</td>\n",
       "      <td>225</td>\n",
       "      <td>585</td>\n",
       "      <td>1251</td>\n",
       "      <td>219474</td>\n",
       "      <td>846</td>\n",
       "      <td>2266</td>\n",
       "      <td>5078</td>\n",
       "    </tr>\n",
       "  </tbody>\n",
       "</table>\n",
       "</div>"
      ],
      "text/plain": [
       "    name_model                 model name_dataset tn_val fp_val fn_val tp_val  \\\n",
       "1  reglog_full  LogisticRegression()         full  54855    225    585   1251   \n",
       "\n",
       "  tn_train fp_train fn_train tp_train  \n",
       "1   219474      846     2266     5078  "
      ]
     },
     "metadata": {},
     "output_type": "display_data"
    },
    {
     "data": {
      "text/html": [
       "<div>\n",
       "<style scoped>\n",
       "    .dataframe tbody tr th:only-of-type {\n",
       "        vertical-align: middle;\n",
       "    }\n",
       "\n",
       "    .dataframe tbody tr th {\n",
       "        vertical-align: top;\n",
       "    }\n",
       "\n",
       "    .dataframe thead th {\n",
       "        text-align: right;\n",
       "    }\n",
       "</style>\n",
       "<table border=\"1\" class=\"dataframe\">\n",
       "  <thead>\n",
       "    <tr style=\"text-align: right;\">\n",
       "      <th></th>\n",
       "      <th>name_model</th>\n",
       "      <th>model</th>\n",
       "      <th>name_dataset</th>\n",
       "      <th>parametres</th>\n",
       "      <th>coefficients</th>\n",
       "    </tr>\n",
       "  </thead>\n",
       "  <tbody>\n",
       "    <tr>\n",
       "      <th>1</th>\n",
       "      <td>reglog_full</td>\n",
       "      <td>LogisticRegression()</td>\n",
       "      <td>full</td>\n",
       "      <td>{'C': 1.0, 'class_weight': None, 'dual': False...</td>\n",
       "      <td>[[-0.5942006647998186, 2.548630474171293, 3.57...</td>\n",
       "    </tr>\n",
       "  </tbody>\n",
       "</table>\n",
       "</div>"
      ],
      "text/plain": [
       "    name_model                 model name_dataset  \\\n",
       "1  reglog_full  LogisticRegression()         full   \n",
       "\n",
       "                                          parametres  \\\n",
       "1  {'C': 1.0, 'class_weight': None, 'dual': False...   \n",
       "\n",
       "                                        coefficients  \n",
       "1  [[-0.5942006647998186, 2.548630474171293, 3.57...  "
      ]
     },
     "metadata": {},
     "output_type": "display_data"
    },
    {
     "data": {
      "image/png": "[encoded data removed]",
      "text/plain": [
       "<Figure size 640x480 with 2 Axes>"
      ]
     },
     "metadata": {},
     "output_type": "display_data"
    },
    {
     "data": {
      "image/png": "[encoded data removed]",
      "text/plain": [
       "<Figure size 640x480 with 2 Axes>"
      ]
     },
     "metadata": {},
     "output_type": "display_data"
    }
   ],
   "source": [
    "classifier = LogisticRegression() # \n",
    "classifier.fit(X_train, y_train)\n",
    "\n",
    "#list_params = classifier.get_params()\n",
    "#print(list_params)\n",
    "\n",
    "resultats_reglog_full = model_scores('reglog_full', classifier, name_dataset = name_dataset)\n"
   ]
  },
  {
   "cell_type": "markdown",
   "metadata": {
    "colab_type": "text",
    "id": "7b_aU7ij7K3Q"
   },
   "source": [
    "## Training pipeline"
   ]
  },
  {
   "cell_type": "code",
   "execution_count": 33,
   "metadata": {
    "colab": {
     "base_uri": "https://localhost:8080/",
     "height": 104
    },
    "colab_type": "code",
    "id": "1qhidLbq7o-5",
    "outputId": "6bfb746c-1ff4-41c9-b0d6-a98fd09a444d"
   },
   "outputs": [
    {
     "name": "stdout",
     "output_type": "stream",
     "text": [
      "{'C': 1.0, 'class_weight': None, 'dual': False, 'fit_intercept': True, 'intercept_scaling': 1, 'l1_ratio': None, 'max_iter': 100, 'multi_class': 'auto', 'n_jobs': None, 'penalty': 'l2', 'random_state': None, 'solver': 'lbfgs', 'tol': 0.0001, 'verbose': 0, 'warm_start': False}\n",
      "\n",
      "X_train accuracy:0.9863307330100499,\n",
      "X_val accuracy:0.9857685009487666\n",
      "\n",
      "X_train F1:0.7654507084715104,\n",
      "X_val F1:0.7554347826086957\n",
      "Features_importance:\n"
     ]
    },
    {
     "data": {
      "text/html": [
       "<div>                            <div id=\"dc4bb1eb-220c-4607-8331-0b0b9363e0f8\" class=\"plotly-graph-div\" style=\"height:525px; width:100%;\"></div>            <script type=\"text/javascript\">                require([\"plotly\"], function(Plotly) {                    window.PLOTLYENV=window.PLOTLYENV || {};                                    if (document.getElementById(\"dc4bb1eb-220c-4607-8331-0b0b9363e0f8\")) {                    Plotly.newPlot(                        \"dc4bb1eb-220c-4607-8331-0b0b9363e0f8\",                        [{\"alignmentgroup\":\"True\",\"hovertemplate\":\"x=%{x}\\u003cbr\\u003eindex=%{y}\\u003cbr\\u003e0=%{marker.color}\\u003cextra\\u003e\\u003c\\u002fextra\\u003e\",\"legendgroup\":\"\",\"marker\":{\"color\":[-0.5942006647998186,2.548630474171293,3.576551967985781,3.4268336458931006,3.0551589662492877,-1.6878732929515432,-0.197321568182949,-0.04434500278390671],\"coloraxis\":\"coloraxis\",\"pattern\":{\"shape\":\"\"}},\"name\":\"\",\"offsetgroup\":\"\",\"orientation\":\"h\",\"showlegend\":false,\"textposition\":\"auto\",\"x\":[0.5942006647998186,2.548630474171293,3.576551967985781,3.4268336458931006,3.0551589662492877,1.6878732929515432,0.197321568182949,0.04434500278390671],\"xaxis\":\"x\",\"y\":[\"age\",\"total_pages_visited\",\"country_Germany\",\"country_UK\",\"country_US\",\"new_user_1\",\"source_Direct\",\"source_Seo\"],\"yaxis\":\"y\",\"type\":\"bar\"}],                        {\"template\":{\"layout\":{\"colorway\":[\"#FF34B3\",\"#CD2990\",\"#8B1C62\",\"#CD00CD\",\"#8B008B\",\"#8968CD\",\"#5D478B\",\"#20B2AA\"]}},\"xaxis\":{\"anchor\":\"y\",\"domain\":[0.0,1.0],\"title\":{\"text\":\"x\"}},\"yaxis\":{\"anchor\":\"x\",\"domain\":[0.0,1.0],\"title\":{}},\"coloraxis\":{\"colorbar\":{\"title\":{\"text\":\"0\"}},\"colorscale\":[[0.0,\"#440154\"],[0.1111111111111111,\"#482878\"],[0.2222222222222222,\"#3e4989\"],[0.3333333333333333,\"#31688e\"],[0.4444444444444444,\"#26828e\"],[0.5555555555555556,\"#1f9e89\"],[0.6666666666666666,\"#35b779\"],[0.7777777777777778,\"#6ece58\"],[0.8888888888888888,\"#b5de2b\"],[1.0,\"#fde725\"]]},\"legend\":{\"tracegroupgap\":0},\"margin\":{\"t\":50,\"l\":150,\"r\":20,\"b\":40},\"barmode\":\"relative\",\"font\":{\"size\":15},\"title\":{\"text\":\"Feature importance\",\"font\":{\"color\":\"#8B1C62\"}},\"showlegend\":false},                        {\"responsive\": true}                    ).then(function(){\n",
       "                            \n",
       "var gd = document.getElementById('dc4bb1eb-220c-4607-8331-0b0b9363e0f8');\n",
       "var x = new MutationObserver(function (mutations, observer) {{\n",
       "        var display = window.getComputedStyle(gd).display;\n",
       "        if (!display || display === 'none') {{\n",
       "            console.log([gd, 'removed!']);\n",
       "            Plotly.purge(gd);\n",
       "            observer.disconnect();\n",
       "        }}\n",
       "}});\n",
       "\n",
       "// Listen for the removal of the full notebook cells\n",
       "var notebookContainer = gd.closest('#notebook-container');\n",
       "if (notebookContainer) {{\n",
       "    x.observe(notebookContainer, {childList: true});\n",
       "}}\n",
       "\n",
       "// Listen for the clearing of the current output cell\n",
       "var outputEl = gd.closest('.output');\n",
       "if (outputEl) {{\n",
       "    x.observe(outputEl, {childList: true});\n",
       "}}\n",
       "\n",
       "                        })                };                });            </script>        </div>"
      ]
     },
     "metadata": {},
     "output_type": "display_data"
    },
    {
     "ename": "ValueError",
     "evalue": "not enough values to unpack (expected 4, got 2)",
     "output_type": "error",
     "traceback": [
      "\u001b[0;31m---------------------------------------------------------------------------\u001b[0m",
      "\u001b[0;31mValueError\u001b[0m                                Traceback (most recent call last)",
      "\u001b[1;32m/home/mel/Documents/Projects/jedha_Bloc3_challenge_MLSupervised/202311_jedha_Bloc3_ML_challenge/202311_jedha_bloc3_ML_challenge.ipynb Cell 39\u001b[0m line \u001b[0;36m3\n\u001b[1;32m     <a href='vscode-notebook-cell:/home/mel/Documents/Projects/jedha_Bloc3_challenge_MLSupervised/202311_jedha_Bloc3_ML_challenge/202311_jedha_bloc3_ML_challenge.ipynb#X46sZmlsZQ%3D%3D?line=28'>29</a>\u001b[0m fig\u001b[39m.\u001b[39mshow()\n\u001b[1;32m     <a href='vscode-notebook-cell:/home/mel/Documents/Projects/jedha_Bloc3_challenge_MLSupervised/202311_jedha_Bloc3_ML_challenge/202311_jedha_bloc3_ML_challenge.ipynb#X46sZmlsZQ%3D%3D?line=30'>31</a>\u001b[0m \u001b[39m# Confusion matrix\u001b[39;00m\n\u001b[0;32m---> <a href='vscode-notebook-cell:/home/mel/Documents/Projects/jedha_Bloc3_challenge_MLSupervised/202311_jedha_Bloc3_ML_challenge/202311_jedha_bloc3_ML_challenge.ipynb#X46sZmlsZQ%3D%3D?line=32'>33</a>\u001b[0m tn_train, fp_train, fn_train, tp_train \u001b[39m=\u001b[39m confusion_matrix(y_train, y_train_pred) \u001b[39m#confusion_matrix(y_true, y_pred, *, labels=None, sample_weight=None, normalize=None,)\u001b[39;00m\n\u001b[1;32m     <a href='vscode-notebook-cell:/home/mel/Documents/Projects/jedha_Bloc3_challenge_MLSupervised/202311_jedha_Bloc3_ML_challenge/202311_jedha_bloc3_ML_challenge.ipynb#X46sZmlsZQ%3D%3D?line=33'>34</a>\u001b[0m tn_val, fp_val, fn_val, tp_val \u001b[39m=\u001b[39m confusion_matrix(y_val, y_val_pred)\n\u001b[1;32m     <a href='vscode-notebook-cell:/home/mel/Documents/Projects/jedha_Bloc3_challenge_MLSupervised/202311_jedha_Bloc3_ML_challenge/202311_jedha_bloc3_ML_challenge.ipynb#X46sZmlsZQ%3D%3D?line=35'>36</a>\u001b[0m \u001b[39mprint\u001b[39m(\u001b[39m'\u001b[39m\u001b[39mConfusion Matrix:\u001b[39m\u001b[39m'\u001b[39m)\n",
      "\u001b[0;31mValueError\u001b[0m: not enough values to unpack (expected 4, got 2)"
     ]
    }
   ],
   "source": [
    "# First model\n",
    "\n",
    "classifier = LogisticRegression() # \n",
    "classifier.fit(X_train, y_train)\n",
    "\n",
    "list_params = classifier.get_params()\n",
    "print(list_params)\n",
    "\n",
    "classifier.score(X_train, y_train)\n",
    "print(f\"\\nX_train accuracy:{classifier.score(X_train, y_train)},\\n\\\n",
    "X_val accuracy:{classifier.score(X_val, y_val)}\\n\")\n",
    "\n",
    "# Predictions & F1\n",
    "y_train_pred = classifier.predict(X_train)\n",
    "y_val_pred = classifier.predict(X_val)\n",
    "\n",
    "print(f'X_train F1:{f1_score(y_train, y_train_pred)},\\n\\\n",
    "X_val F1:{f1_score(y_val,y_val_pred)}')\n",
    "\n",
    "# coeff importance:\n",
    "print('Features_importance:')\n",
    "feat_imp = pd.DataFrame([coef for coef in classifier.coef_], columns=liste_features_name)\n",
    "feat_imp\n",
    "\n",
    "temp = feat_imp.transpose()\n",
    "fig = px.bar(temp, x = abs(temp[0]), orientation='h', color=temp[0])\n",
    "fig.update_layout(showlegend=False, title=f'Feature importance', font=dict(size=15), title_font_color=\"#8B1C62\", margin=dict(l=150, r=20, t=50, b=40))\n",
    "fig.update_yaxes(title = None)\n",
    "fig.show()\n",
    "\n",
    "# Confusion matrix\n",
    "\n",
    "tn_val, fp_val = confusion_matrix(y_val, y_val_pred)[0,0], confusion_matrix(y_val, y_val_pred)[0,1]\n",
    "fn_val, tp_val = confusion_matrix(y_val, y_val_pred)[1,0], confusion_matrix(y_val, y_val_pred)[1,1]\n",
    "\n",
    "#tn_val, fp_val, fn_val, tp_val\n",
    "\n",
    "print('Confusion Matrix:')\n",
    "_ , ax = plt.subplots() # Get subplot from matplotlib\n",
    "ax.set(title=\"Confusion Matrix on Train set\") # Set a title that we will add into ConfusionMatrixDisplay\n",
    "ConfusionMatrixDisplay.from_estimator(classifier, X_train, y_train, ax=ax) # ConfusionMatrixDisplay from sklearn\n",
    "plt.show()\n",
    "\n",
    "_ , ax = plt.subplots() # Get subplot from matplotlib\n",
    "ax.set(title=\"Confusion Matrix on Train set\") # Set a title that we will add into ConfusionMatrixDisplay\n",
    "ConfusionMatrixDisplay.from_estimator(classifier, X_val, y_val, ax=ax) # ConfusionMatrixDisplay from sklearn\n",
    "plt.show()\n"
   ]
  },
  {
   "cell_type": "code",
   "execution_count": null,
   "metadata": {},
   "outputs": [],
   "source": [
    "\n",
    "classification_report\n",
    "\n",
    "from sklearn.tree import plot_tree\n",
    "\n",
    "class_names = encoder.inverse_transform([0, 1, 2])\n",
    "\n",
    "plt.figure(figsize=(20,20))\n",
    "a = plot_tree(classifier_gini, \n",
    "              feature_names=X.columns, \n",
    "              class_names=class_names, \n",
    "              filled=True, \n",
    "              rounded=True, \n",
    "              fontsize=14)"
   ]
  },
  {
   "cell_type": "markdown",
   "metadata": {},
   "source": [
    "### Most important features \n",
    "seems to be The number of pages visited (positive correlation) and the country, the new user variable\n",
    "Impact of sources is not that important, age neither.\n",
    "\n",
    "### scores\n",
    "F1 and accracy scores are basically the same for train and test\n",
    "\n",
    "### Confusion matrice:\n",
    "30% errors ont the positives labels (30% have been predicted as negative)\n",
    "15% predicted neg should be true.\n",
    "\n",
    "We need to work on the 30% errors...\n",
    "Try with a gradient ?\n",
    "\n"
   ]
  },
  {
   "cell_type": "code",
   "execution_count": 3,
   "metadata": {},
   "outputs": [
    {
     "ename": "NameError",
     "evalue": "name 'LogisticRegression' is not defined",
     "output_type": "error",
     "traceback": [
      "\u001b[0;31m---------------------------------------------------------------------------\u001b[0m",
      "\u001b[0;31mNameError\u001b[0m                                 Traceback (most recent call last)",
      "\u001b[1;32m/home/mel/Documents/Projects/jedha_Bloc3_challenge_MLSupervised/202311_jedha_Bloc3_ML_challenge/202311_jedha_bloc3_ML_challenge.ipynb Cell 34\u001b[0m line \u001b[0;36m5\n\u001b[1;32m     <a href='vscode-notebook-cell:/home/mel/Documents/Projects/jedha_Bloc3_challenge_MLSupervised/202311_jedha_Bloc3_ML_challenge/202311_jedha_bloc3_ML_challenge.ipynb#X45sZmlsZQ%3D%3D?line=48'>49</a>\u001b[0m     ConfusionMatrixDisplay\u001b[39m.\u001b[39mfrom_estimator(classifier, X_val, y_val, ax\u001b[39m=\u001b[39max) \u001b[39m# ConfusionMatrixDisplay from sklearn\u001b[39;00m\n\u001b[1;32m     <a href='vscode-notebook-cell:/home/mel/Documents/Projects/jedha_Bloc3_challenge_MLSupervised/202311_jedha_Bloc3_ML_challenge/202311_jedha_bloc3_ML_challenge.ipynb#X45sZmlsZQ%3D%3D?line=49'>50</a>\u001b[0m     plt\u001b[39m.\u001b[39mshow()\n\u001b[0;32m---> <a href='vscode-notebook-cell:/home/mel/Documents/Projects/jedha_Bloc3_challenge_MLSupervised/202311_jedha_Bloc3_ML_challenge/202311_jedha_bloc3_ML_challenge.ipynb#X45sZmlsZQ%3D%3D?line=51'>52</a>\u001b[0m model_pipeline(LogisticRegression(), classifier)\n",
      "\u001b[0;31mNameError\u001b[0m: name 'LogisticRegression' is not defined"
     ]
    }
   ],
   "source": [
    "# Fonction doesn't work\n",
    "\n",
    "#classifier = LogisticRegression() # \n",
    "#classifier.fit(X_train, y_train)\n",
    "\n",
    "def model_pipeline(model_type, model_name):\n",
    "    \n",
    "    model = model_name\n",
    "\n",
    "    model_name = model_type \n",
    "    classifier.fit(X_train, y_train)\n",
    "\n",
    "    model.fit(X_train, y_train)\n",
    "\n",
    "    list_params = classifier.get_params()\n",
    "    print(list_params)\n",
    "\n",
    "    classifier.score(X_train, y_train)\n",
    "    print(f\"\\nX_train accuracy:{classifier.score(X_train, y_train)},\\n\\\n",
    "    X_val accuracy:{classifier.score(X_val, y_val)}\\n\")\n",
    "\n",
    "    # Predictions & F1\n",
    "    y_train_pred = classifier.predict(X_train)\n",
    "    y_val_pred = classifier.predict(X_val)\n",
    "\n",
    "    print(f'X_train F1:{f1_score(y_train, y_train_pred)},\\n\\\n",
    "    X_val F1:{f1_score(y_val,y_val_pred)}')\n",
    "\n",
    "    # coeff importance:\n",
    "    print('Features_importance:')\n",
    "    feat_imp = pd.DataFrame([coef for coef in classifier.coef_], columns=liste_features_name)\n",
    "    feat_imp\n",
    "\n",
    "    temp = feat_imp.transpose()\n",
    "    fig = px.bar(temp, x = abs(temp[0]), orientation='h', color=temp[0])\n",
    "    fig.update_layout(showlegend=False, title=f'Feature importance', font=dict(size=15), title_font_color=\"#8B1C62\", margin=dict(l=150, r=20, t=50, b=40))\n",
    "    fig.update_yaxes(title = None)\n",
    "    fig.show()\n",
    "\n",
    "    # Confusion matrix\n",
    "    print('Confusion Matrix:')\n",
    "    _ , ax = plt.subplots() # Get subplot from matplotlib\n",
    "    ax.set(title=\"Confusion Matrix on Train set\") # Set a title that we will add into ConfusionMatrixDisplay\n",
    "    ConfusionMatrixDisplay.from_estimator(classifier, X_train, y_train, ax=ax) # ConfusionMatrixDisplay from sklearn\n",
    "    plt.show()\n",
    "\n",
    "    _ , ax = plt.subplots() # Get subplot from matplotlib\n",
    "    ax.set(title=\"Confusion Matrix on Train set\") # Set a title that we will add into ConfusionMatrixDisplay\n",
    "    ConfusionMatrixDisplay.from_estimator(classifier, X_val, y_val, ax=ax) # ConfusionMatrixDisplay from sklearn\n",
    "    plt.show()\n",
    "\n",
    "model_pipeline(LogisticRegression(), classifier)"
   ]
  },
  {
   "cell_type": "markdown",
   "metadata": {
    "colab_type": "text",
    "id": "6tVVDRABv91O"
   },
   "source": [
    "# Train best classifier on all data and use it to make predictions on X_without_labels\n",
    "**Before making predictions on the file conversion_data_test.csv, let's train our model on ALL the data that was in conversion_data_train.csv. Sometimes, this allows to make tiny improvements in the score because we're using more examples to train the model.**"
   ]
  },
  {
   "cell_type": "code",
   "execution_count": null,
   "metadata": {
    "colab": {
     "base_uri": "https://localhost:8080/",
     "height": 154
    },
    "colab_type": "code",
    "id": "M14RHUadzE2p",
    "outputId": "abcfcfec-9461-4579-adbd-f23270f984eb"
   },
   "outputs": [],
   "source": [
    "# Concatenate our train and test set to train your best classifier on all data with labels\n",
    "X = np.append(X_train,X_test,axis=0)\n",
    "Y = np.append(Y_train,Y_test)\n",
    "\n",
    "classifier.fit(X,Y)"
   ]
  },
  {
   "cell_type": "code",
   "execution_count": null,
   "metadata": {
    "colab": {
     "base_uri": "https://localhost:8080/",
     "height": 151
    },
    "colab_type": "code",
    "id": "Tr4CEaPzzbP-",
    "outputId": "f0d1c8ed-be4b-4974-d7b9-f23a49344d9d"
   },
   "outputs": [],
   "source": [
    "# Read data without labels\n",
    "data_without_labels = pd.read_csv('conversion_data_test.csv')\n",
    "print('Prediction set (without labels) :', data_without_labels.shape)\n",
    "\n",
    "# Warning : check consistency of features_list (must be the same than the features \n",
    "# used by your best classifier)\n",
    "features_list = ['total_pages_visited']\n",
    "X_without_labels = data_without_labels.loc[:, features_list]\n",
    "\n",
    "# Convert pandas DataFrames to numpy arrays before using scikit-learn\n",
    "print(\"Convert pandas DataFrames to numpy arrays...\")\n",
    "X_without_labels = X_without_labels.values\n",
    "print(\"...Done\")\n",
    "\n",
    "print(X_without_labels[0:5,:])"
   ]
  },
  {
   "cell_type": "code",
   "execution_count": null,
   "metadata": {
    "colab": {
     "base_uri": "https://localhost:8080/",
     "height": 134
    },
    "colab_type": "code",
    "id": "LoUISfsT0HMR",
    "outputId": "e42dc389-5e77-4e13-ccbc-1fef4aa2c0ca"
   },
   "outputs": [],
   "source": [
    "# WARNING : PUT HERE THE SAME PREPROCESSING AS FOR YOUR TEST SET\n",
    "# CHECK YOU ARE USING X_without_labels\n",
    "print(\"Encoding categorical features and standardizing numerical features...\")\n",
    "\n",
    "X_without_labels = featureencoder.transform(X_without_labels)\n",
    "print(\"...Done\")\n",
    "print(X_without_labels[0:5,:])"
   ]
  },
  {
   "cell_type": "code",
   "execution_count": null,
   "metadata": {
    "colab": {},
    "colab_type": "code",
    "id": "7DuWSEHuwEQJ"
   },
   "outputs": [],
   "source": [
    "# Make predictions and dump to file\n",
    "# WARNING : MAKE SURE THE FILE IS A CSV WITH ONE COLUMN NAMED 'converted' AND NO INDEX !\n",
    "# WARNING : FILE NAME MUST HAVE FORMAT 'conversion_data_test_predictions_[name].csv'\n",
    "# where [name] is the name of your team/model separated by a '-'\n",
    "# For example : [name] = AURELIE-model1\n",
    "data = {\n",
    "    'converted': classifier.predict(X_without_labels)\n",
    "}\n",
    "\n",
    "Y_predictions = pd.DataFrame(columns=['converted'],data=data)\n",
    "Y_predictions.to_csv('conversion_data_test_predictions_EXAMPLE.csv', index=False)\n"
   ]
  },
  {
   "cell_type": "markdown",
   "metadata": {},
   "source": [
    "## Analyzing the coefficients and interpreting the result\n",
    "**In this template, we just trained a model with only one feature (total_pages_visited), so there's no analysis to be done about the feature importance 🤔**\n",
    "\n",
    "**Once you've included more features in your model, please take some time to analyze the model's parameters and try to find some lever for action to improve the newsletter's conversion rate 😎😎**"
   ]
  }
 ],
 "metadata": {
  "colab": {
   "collapsed_sections": [],
   "name": "Projets_template.ipynb",
   "provenance": []
  },
  "kernelspec": {
   "display_name": "Python 3",
   "language": "python",
   "name": "python3"
  },
  "language_info": {
   "codemirror_mode": {
    "name": "ipython",
    "version": 3
   },
   "file_extension": ".py",
   "mimetype": "text/x-python",
   "name": "python",
   "nbconvert_exporter": "python",
   "pygments_lexer": "ipython3",
   "version": "3.10.12"
  }
 },
 "nbformat": 4,
 "nbformat_minor": 4
}
